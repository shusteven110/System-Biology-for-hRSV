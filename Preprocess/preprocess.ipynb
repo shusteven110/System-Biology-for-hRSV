{
  "nbformat": 4,
  "nbformat_minor": 0,
  "metadata": {
    "colab": {
      "provenance": []
    },
    "kernelspec": {
      "name": "python3",
      "display_name": "Python 3"
    },
    "language_info": {
      "name": "python"
    }
  },
  "cells": [
    {
      "cell_type": "code",
      "execution_count": null,
      "metadata": {
        "colab": {
          "base_uri": "https://localhost:8080/"
        },
        "id": "QRdTPBXBj2Y7",
        "outputId": "56eeddb4-b983-4bff-b9d7-2d4ece918365"
      },
      "outputs": [
        {
          "output_type": "stream",
          "name": "stdout",
          "text": [
            "Mounted at /content/drive\n"
          ]
        }
      ],
      "source": [
        "from google.colab import drive\n",
        "drive.mount('/content/drive')"
      ]
    },
    {
      "cell_type": "code",
      "source": [
        "import sys\n",
        "sys.path.append('/content/drive/MyDrive/Colab Notebooks')"
      ],
      "metadata": {
        "id": "zl3dERazj8z-"
      },
      "execution_count": null,
      "outputs": []
    },
    {
      "cell_type": "code",
      "source": [
        "!pip install mat73"
      ],
      "metadata": {
        "colab": {
          "base_uri": "https://localhost:8080/"
        },
        "id": "JNddnn9GApkp",
        "outputId": "13eef9e3-1f10-4672-a835-b90239c47830"
      },
      "execution_count": null,
      "outputs": [
        {
          "output_type": "stream",
          "name": "stdout",
          "text": [
            "Looking in indexes: https://pypi.org/simple, https://us-python.pkg.dev/colab-wheels/public/simple/\n",
            "Collecting mat73\n",
            "  Downloading mat73-0.60-py3-none-any.whl (19 kB)\n",
            "Requirement already satisfied: numpy in /usr/local/lib/python3.9/dist-packages (from mat73) (1.22.4)\n",
            "Requirement already satisfied: h5py in /usr/local/lib/python3.9/dist-packages (from mat73) (3.8.0)\n",
            "Installing collected packages: mat73\n",
            "Successfully installed mat73-0.60\n"
          ]
        }
      ]
    },
    {
      "cell_type": "code",
      "source": [
        "import scipy.io as scipy\n",
        "import json\n",
        "import mat73\n",
        "import pandas as pd"
      ],
      "metadata": {
        "id": "XaLKjEtukH0R"
      },
      "execution_count": null,
      "outputs": []
    },
    {
      "cell_type": "code",
      "source": [
        "df = pd.read_excel('drive/MyDrive/PPI/gene_symbol_expression.xlsx')"
      ],
      "metadata": {
        "id": "Dz9WfuDOj5wf"
      },
      "execution_count": null,
      "outputs": []
    },
    {
      "cell_type": "code",
      "source": [
        "f = open('drive/MyDrive/PPI/gencode_v38_name_to_type.json')\n",
        "human_v38 = json.load(f)\n",
        "rcpdb_arr = scipy.loadmat('drive/MyDrive/PPI/receptor_DB.mat')['receptor_DB']\n",
        "tfdb_arr = mat73.loadmat('drive/MyDrive/PPI/TF_list_with_alias.mat')['TF_list_with_alias']\n",
        "grndb_arr = scipy.loadmat('drive/MyDrive/PPI/GRNHTRIdb_ITFP_MRNTargetScanspstarBase2_bothCircuitDBcomplex20160324.mat')\n",
        "ppidb_arr = scipy.loadmat('drive/MyDrive/PPI/PPIDIP_BIND_BIOGRIDp_IntAct_MINT20160616.mat')"
      ],
      "metadata": {
        "id": "GXP8lht5kGYB"
      },
      "execution_count": null,
      "outputs": []
    },
    {
      "cell_type": "code",
      "source": [
        "a = 0"
      ],
      "metadata": {
        "id": "9Mc4rRY6h14M"
      },
      "execution_count": null,
      "outputs": []
    },
    {
      "cell_type": "code",
      "source": [
        "for i in human_v38:\n",
        "  if human_v38.get(i) == 'protein_coding':\n",
        "    a = a+1\n",
        "print(a)"
      ],
      "metadata": {
        "colab": {
          "base_uri": "https://localhost:8080/"
        },
        "id": "Gp9XZIhTg9U4",
        "outputId": "3fa9dfe0-7ad6-4a94-fd96-a2aa133235be"
      },
      "execution_count": null,
      "outputs": [
        {
          "output_type": "stream",
          "name": "stdout",
          "text": [
            "19928\n"
          ]
        }
      ]
    },
    {
      "cell_type": "code",
      "source": [
        "rcpdb = []\n",
        "tfdb = []\n",
        "ppidb = []\n",
        "virdb = ['NS1','NS2','N','P','M','SH','G','F','M2','L']"
      ],
      "metadata": {
        "id": "hfEm989SEcCk"
      },
      "execution_count": null,
      "outputs": []
    },
    {
      "cell_type": "code",
      "source": [
        "for i in range(rcpdb_arr.shape[0]):\n",
        "  rcpdb.append(rcpdb_arr[i][0].tolist()[0])\n",
        "for i in range(len(tfdb_arr)):\n",
        "  tfdb.append(tfdb_arr[i][0])"
      ],
      "metadata": {
        "id": "G7HVs05DEn1y"
      },
      "execution_count": null,
      "outputs": []
    },
    {
      "cell_type": "code",
      "source": [
        "df.at[6,'GENE_SYMBOL']"
      ],
      "metadata": {
        "colab": {
          "base_uri": "https://localhost:8080/",
          "height": 35
        },
        "id": "NYJOcCx7hZQV",
        "outputId": "c0f60899-4a8c-480a-b968-1bc31c80c2c5"
      },
      "execution_count": null,
      "outputs": [
        {
          "output_type": "execute_result",
          "data": {
            "text/plain": [
              "'DAB1'"
            ],
            "application/vnd.google.colaboratory.intrinsic+json": {
              "type": "string"
            }
          },
          "metadata": {},
          "execution_count": 25
        }
      ]
    },
    {
      "cell_type": "code",
      "source": [
        "InProtein=[]\n",
        "Inlnc=[]\n",
        "InMir=[]\n",
        "InRcp=[]\n",
        "InVir=[]\n",
        "InTF=[]\n",
        "for i in range(df.shape[0]):\n",
        "  try:\n",
        "    gene = df.at[i,'GENE_SYMBOL'].split(';')[0]\n",
        "    gene_raw = df.at[i,'GENE_SYMBOL']\n",
        "  except:\n",
        "    gene = None\n",
        "  try:\n",
        "    if human_v38[gene] == 'lncRNA':\n",
        "      Inlnc.append(gene_raw)\n",
        "    elif human_v38[gene] == 'miRNA':\n",
        "      InMir.append(gene_raw)\n",
        "    elif gene in tfdb:\n",
        "      InTF.append(gene_raw)\n",
        "    elif gene in rcpdb:\n",
        "      InRcp.append(gene_raw)\n",
        "    elif gene in virdb:\n",
        "      InVir.append(gene_raw)\n",
        "    elif human_v38[gene] == 'protein_coding':\n",
        "      InProtein.append(gene_raw)\n",
        "  except:\n",
        "    if gene in tfdb:\n",
        "      InTF.append(gene_raw)\n",
        "    elif gene in rcpdb:\n",
        "      InRcp.append(gene_raw)\n",
        "    elif gene in virdb:\n",
        "      InVir.append(gene_raw)"
      ],
      "metadata": {
        "id": "GAOktnVik5Qr"
      },
      "execution_count": null,
      "outputs": []
    },
    {
      "cell_type": "code",
      "source": [
        "InRcp = list(dict.fromkeys(InRcp))\n",
        "InMir = list(dict.fromkeys(InMir))\n",
        "Inlnc = list(dict.fromkeys(Inlnc))\n",
        "InTF = list(dict.fromkeys(InTF))\n",
        "InProtein = list(dict.fromkeys(InProtein))\n",
        "InRcp = list(dict.fromkeys(InRcp))"
      ],
      "metadata": {
        "id": "mxCDTR_Ej7QP"
      },
      "execution_count": null,
      "outputs": []
    },
    {
      "cell_type": "code",
      "source": [
        "Protein = list(set(InProtein + InRcp + InTF + InVir))\n",
        "Name = list(set(Protein + InMir + Inlnc))"
      ],
      "metadata": {
        "id": "ZmXABKHFWlEC"
      },
      "execution_count": null,
      "outputs": []
    },
    {
      "cell_type": "code",
      "source": [
        "gene_dir={'InRcp':InRcp,'InMir':InMir,'Inlnc':Inlnc,'InTF':InTF,'InProtein':InProtein}\n",
        "scipy.savemat(\"gene_dir.mat\", gene_dir)"
      ],
      "metadata": {
        "id": "-MJq_L9uefql"
      },
      "execution_count": null,
      "outputs": []
    },
    {
      "cell_type": "code",
      "source": [
        "print(len(InRcp))\n",
        "print(len(InMir))\n",
        "print(len(Inlnc))\n",
        "print(len(InTF))\n",
        "print(len(InProtein))\n",
        "print(len(InVir))"
      ],
      "metadata": {
        "colab": {
          "base_uri": "https://localhost:8080/"
        },
        "id": "0tZmNMtVKGAZ",
        "outputId": "242dc894-17ea-4b1f-e1fe-eb2592b907cc"
      },
      "execution_count": null,
      "outputs": [
        {
          "output_type": "stream",
          "name": "stdout",
          "text": [
            "3082\n",
            "551\n",
            "3245\n",
            "1594\n",
            "14389\n",
            "10\n"
          ]
        }
      ]
    },
    {
      "cell_type": "code",
      "source": [
        "print(len(Protein))\n",
        "print(len(Name))"
      ],
      "metadata": {
        "colab": {
          "base_uri": "https://localhost:8080/"
        },
        "id": "dO9kFhq1XOpY",
        "outputId": "027f36da-bebc-413f-998b-6c162d90c5e0"
      },
      "execution_count": null,
      "outputs": [
        {
          "output_type": "stream",
          "name": "stdout",
          "text": [
            "19075\n",
            "22871\n"
          ]
        }
      ]
    }
  ]
}