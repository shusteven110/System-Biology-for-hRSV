{
 "cells": [
  {
   "cell_type": "code",
   "execution_count": 16,
   "source": [
    "# ~\\anaconda3\\envs\\myenv2\\python.exe\r\n",
    "# -*- coding: utf-8 -*-\r\n",
    "\"\"\"\r\n",
    "Created on Mon Nov  9 11:51:34 2020\r\n",
    "\r\n",
    "@author: ChingTseTing\r\n",
    "\"\"\"\r\n",
    "import os\r\n",
    "import numpy as np\r\n",
    "import pandas as pd\r\n",
    "import pickle\r\n",
    "from tqdm import tqdm\r\n"
   ],
   "outputs": [],
   "metadata": {}
  },
  {
   "cell_type": "markdown",
   "source": [
    "New data:  Combine into Drug-Target pair datasets"
   ],
   "metadata": {}
  },
  {
   "cell_type": "code",
   "execution_count": 17,
   "source": [
    "with open(\"C:\\\\Users\\\\lab619\\\\Music\\\\DeepDTI\\\\code\\\\drug_target_descriptor\\\\FDA_drug_CT.pickle\", 'rb') as file:\r\n",
    "    drug_database = pickle.load(file, encoding='iso-8859-1')\r\n",
    "\r\n",
    "drug_descriptor = drug_database.iloc[:]['descriptor'].tolist()\r\n",
    "drug_descriptor = np.concatenate(drug_descriptor, axis=0)\r\n",
    "\r\n",
    "with open(\"C:\\\\Users\\\\lab619\\\\Music\\\\DeepDTI\\\\code\\\\drug_target_descriptor\\\\target_gene_CT.pickle\", 'rb') as file:\r\n",
    "    target_database = pickle.load(file, encoding='iso-8859-1')\r\n"
   ],
   "outputs": [],
   "metadata": {}
  },
  {
   "cell_type": "code",
   "execution_count": 18,
   "source": [
    "target_database"
   ],
   "outputs": [
    {
     "output_type": "execute_result",
     "data": {
      "text/plain": [
       "  gene_name protein                                         descriptor\n",
       "0    TICAM1  Q8IUC6  [[74.017, 0.147, 2.2e-05, 0.147, 203.654, 20.7...\n",
       "1      AKT1  P31749  [[80.625, 0.039, 6.6e-05, 0.038, 174.672, 27.2...\n",
       "2    MAPK13  O15264  [[75.89, 0.045, 0.000103, 0.045, 126.383, 23.8...\n",
       "3       JUN  P05412  [[60.121, 0.215, 5.4e-05, 0.215, 88.882, 24.47..."
      ],
      "text/html": [
       "<div>\n",
       "<style scoped>\n",
       "    .dataframe tbody tr th:only-of-type {\n",
       "        vertical-align: middle;\n",
       "    }\n",
       "\n",
       "    .dataframe tbody tr th {\n",
       "        vertical-align: top;\n",
       "    }\n",
       "\n",
       "    .dataframe thead th {\n",
       "        text-align: right;\n",
       "    }\n",
       "</style>\n",
       "<table border=\"1\" class=\"dataframe\">\n",
       "  <thead>\n",
       "    <tr style=\"text-align: right;\">\n",
       "      <th></th>\n",
       "      <th>gene_name</th>\n",
       "      <th>protein</th>\n",
       "      <th>descriptor</th>\n",
       "    </tr>\n",
       "  </thead>\n",
       "  <tbody>\n",
       "    <tr>\n",
       "      <th>0</th>\n",
       "      <td>TICAM1</td>\n",
       "      <td>Q8IUC6</td>\n",
       "      <td>[[74.017, 0.147, 2.2e-05, 0.147, 203.654, 20.7...</td>\n",
       "    </tr>\n",
       "    <tr>\n",
       "      <th>1</th>\n",
       "      <td>AKT1</td>\n",
       "      <td>P31749</td>\n",
       "      <td>[[80.625, 0.039, 6.6e-05, 0.038, 174.672, 27.2...</td>\n",
       "    </tr>\n",
       "    <tr>\n",
       "      <th>2</th>\n",
       "      <td>MAPK13</td>\n",
       "      <td>O15264</td>\n",
       "      <td>[[75.89, 0.045, 0.000103, 0.045, 126.383, 23.8...</td>\n",
       "    </tr>\n",
       "    <tr>\n",
       "      <th>3</th>\n",
       "      <td>JUN</td>\n",
       "      <td>P05412</td>\n",
       "      <td>[[60.121, 0.215, 5.4e-05, 0.215, 88.882, 24.47...</td>\n",
       "    </tr>\n",
       "  </tbody>\n",
       "</table>\n",
       "</div>"
      ]
     },
     "metadata": {},
     "execution_count": 18
    }
   ],
   "metadata": {}
  },
  {
   "cell_type": "code",
   "execution_count": 19,
   "source": [
    "\r\n",
    "\r\n",
    "Target_list = target_database['gene_name'].tolist()\r\n",
    "\r\n",
    "for i in range(len(target_database)):\r\n",
    "    target_descriptor = target_database.iloc[i]['descriptor'].tolist()*len(drug_database)\r\n",
    "    target_descriptor = np.concatenate(target_descriptor, axis=0).reshape((len(drug_database),-1))\r\n",
    "    feature_vector = np.concatenate((drug_descriptor, target_descriptor), axis=1)\r\n",
    "    feature_vector_df = pd.DataFrame(feature_vector)\r\n",
    "\r\n",
    "    with open( 'C:\\\\Users\\\\lab619\\\\Music\\\\DeepDTI\\\\data\\\\biomarkers_descriptor\\\\' + 'drug_%s_descriptor.pickle'%Target_list[i], 'wb') as f:\r\n",
    "        pickle.dump(feature_vector_df,f)\r\n",
    "\r\n",
    "\r\n",
    "# Used GC drugs\r\n",
    "gc_drugs = drug_database[['pubchem_cid', 'pert_iname']]\r\n",
    "gc_drugs = gc_drugs.reset_index(drop=True)\r\n",
    "with open('C:\\\\Users\\\\lab619\\\\Music\\\\DeepDTI\\\\data\\\\biomarkers_descriptor\\\\gc_drugs_info.pickle', 'wb') as f:\r\n",
    "    pickle.dump(gc_drugs,f)"
   ],
   "outputs": [],
   "metadata": {}
  }
 ],
 "metadata": {
  "orig_nbformat": 4,
  "language_info": {
   "name": "python",
   "version": "3.6.13",
   "mimetype": "text/x-python",
   "codemirror_mode": {
    "name": "ipython",
    "version": 3
   },
   "pygments_lexer": "ipython3",
   "nbconvert_exporter": "python",
   "file_extension": ".py"
  },
  "kernelspec": {
   "name": "python3",
   "display_name": "Python 3.6.13 64-bit ('myenv2': conda)"
  },
  "interpreter": {
   "hash": "e05418077c6e2e187ded6a87aabbf81b9d1e5b91b22ef1e30d9b24d6442bcae1"
  }
 },
 "nbformat": 4,
 "nbformat_minor": 2
}